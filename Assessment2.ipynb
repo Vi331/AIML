{
 "cells": [
  {
   "cell_type": "code",
   "execution_count": 1,
   "id": "f7f5df7e-5816-4e11-b8c0-02a197a96cc6",
   "metadata": {},
   "outputs": [],
   "source": [
    "import numpy as np"
   ]
  },
  {
   "cell_type": "code",
   "execution_count": 2,
   "id": "9cf8e977-0f24-4a77-b1a8-73b3f495abac",
   "metadata": {},
   "outputs": [],
   "source": [
    "def mark_duplicates(ids):\n",
    "    seen = set()\n",
    "    result = []\n",
    "    for id in ids:\n",
    "        if id in seen:\n",
    "            result.append(True)\n",
    "        else: \n",
    "            seen.add(id)\n",
    "            result.append(False)\n",
    "    return np.array(result)"
   ]
  },
  {
   "cell_type": "code",
   "execution_count": 3,
   "id": "aff96c73-1f07-4bae-82b5-c110fa2a4455",
   "metadata": {},
   "outputs": [
    {
     "name": "stdin",
     "output_type": "stream",
     "text": [
      "enter number of test cases 1\n"
     ]
    }
   ],
   "source": [
    "t=int(input(\"enter number of test cases\"))"
   ]
  },
  {
   "cell_type": "code",
   "execution_count": 4,
   "id": "b1ca018b-4409-41b3-b077-70d3c6dc69dc",
   "metadata": {},
   "outputs": [
    {
     "name": "stdin",
     "output_type": "stream",
     "text": [
      "Enter the student IDs separated by space:  0 0 3 0 2 4 2 2 2 2\n"
     ]
    }
   ],
   "source": [
    "for _ in range(t):\n",
    "    # Read space-separated ID values\n",
    "    input_str = input(\"Enter the student IDs separated by space: \")\n",
    "    ids = np.array(list(map(int, input_str.strip().split())))\n"
   ]
  },
  {
   "cell_type": "code",
   "execution_count": 5,
   "id": "407e1040-8945-48f8-8751-674375839e10",
   "metadata": {},
   "outputs": [
    {
     "name": "stdout",
     "output_type": "stream",
     "text": [
      "[False  True False  True False False  True  True  True  True]\n"
     ]
    }
   ],
   "source": [
    "print(mark_duplicates(ids))"
   ]
  },
  {
   "cell_type": "code",
   "execution_count": null,
   "id": "feb1b985-d561-42cf-8633-e40509e208c5",
   "metadata": {},
   "outputs": [],
   "source": []
  }
 ],
 "metadata": {
  "kernelspec": {
   "display_name": "Python 3 (ipykernel)",
   "language": "python",
   "name": "python3"
  },
  "language_info": {
   "codemirror_mode": {
    "name": "ipython",
    "version": 3
   },
   "file_extension": ".py",
   "mimetype": "text/x-python",
   "name": "python",
   "nbconvert_exporter": "python",
   "pygments_lexer": "ipython3",
   "version": "3.13.5"
  }
 },
 "nbformat": 4,
 "nbformat_minor": 5
}
